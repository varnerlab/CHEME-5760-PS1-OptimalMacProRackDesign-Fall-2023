{
 "cells": [
  {
   "cell_type": "markdown",
   "id": "583c7e9a-b38f-41c5-b2ed-44732c21fd1a",
   "metadata": {},
   "source": [
    "## PS1: Optimize the feature set of a rack-mounted M2 MacPro Server\n",
    "The [new MacPro with the M2 Ultra chip has been released](https://www.apple.com/shop/buy-mac/mac-pro/rack#). The MacPro M2 has several configuration options broadly organized into five categories: `{CPU, Memory, Storage, Accessories, Software}` with multiple options per category:\n",
    "* The `CPU` category has `2` options. Only one option can be selected from the `CPU` category\n",
    "* The `Memory` category has `3` options. Only one option can be selected from the `Memory` category.\n",
    "* The `Storage` category has `4` options. Only one option can be selected from the `Storage` category.\n",
    "* The `Accessories` category has `3` options. Only one option can be selected from the `Accessories` category\n",
    "* The `Software` category has `2` options. Neither or both options can be selected from the `Software` category\n",
    "\n",
    "### Problem statement\n",
    "Using a `linear` utility model and budget and feature constraints, compute the optimal set of features for a rack-mounted MacPro M2. This problem will be similar to the examples discussed in the lecture and discussion, except for one crucial element: the decision variables (our choices) will be `binary`, i.e., $x_{i}\\in{0,1}$ where a `0` indicates that we do NOT choose feature $i$. In contrast, a value of `1` indicates that we choose option $i$. \n",
    "\n",
    "Formally, an agent has a set of $n$ configuration options $X = \\left\\{x_{i}\\right\\}_{i=1}^{n}$, a `Linear` utility function, and a total of $I$ units of resource to allocate, e.g., money, and potentially other constraints. An optimal agent maximizes its utility subject to its resource and other constraints:\n",
    "\n",
    "\\begin{eqnarray}\n",
    "\\text{maximize}~\\mathcal{O} &=& \\sum_{i\\in{1,\\dotsc,n}}\\alpha_{i}x_{i} \\\\\n",
    "\\text{subject to}~\\sum_{i\\in{1,\\dotsc,n}}c_{i}x_{i} & = & I\\\\\n",
    "\\text{and}~\\mathbf{C}\\mathbf{x} & \\leq & \\mathbf{b} \\\\\n",
    "\\text{and}~x_{i}&\\in&{0,1}\\qquad{i=1,2,\\dots,n}\n",
    "\\end{eqnarray}\n",
    "\n",
    "The quantity $c_{i}\\geq{0}~\\forall{i}$ denotes the cost of option $i$, $\\alpha_{i}$ denotes user-specified coefficient in the `Linear` utility function, $x_{i}\\in{0,1}$ represents the choice of option $i$, and $\\mathbf{C}\\mathbf{x} \\leq \\mathbf{b}$ represents additional constraints governing the decision.\n",
    "\n",
    "#### List of Tasks\n",
    "* __Task 1__: Specify $\\alpha$- and $c$-vectors for the problem\n",
    "* __Task 2__: Specify the additional constraint matrix $\\mathbf{C}$\n",
    "* __Task 3__: Specify the problem object and solve the problem\n",
    "* __Task 4__: Try at least two different weighting schemes and different budget values, and explore how these design choices influence the optimal configuration (one of these __can__ be the `default` values specified below)."
   ]
  },
  {
   "cell_type": "markdown",
   "id": "a7e3433e-d93b-40ee-88a1-49fef419bd1e",
   "metadata": {},
   "source": [
    "### Setup\n",
    "The computations in this problem set rely on [VLDecisionsPackage.jl](https://github.com/varnerlab/VLDecisionsPackage.jl.git) and several external `Julia` packages. To load the required packages and any custom codes the teaching team has developed to work with these packages, we [include](https://docs.julialang.org/en/v1/manual/code-loading/) the `Include.jl` file):"
   ]
  },
  {
   "cell_type": "code",
   "execution_count": 1,
   "id": "c0782b15-84b4-4b38-be1f-f551bc67731d",
   "metadata": {
    "tags": []
   },
   "outputs": [
    {
     "name": "stderr",
     "output_type": "stream",
     "text": [
      "\u001b[32m\u001b[1m  Activating\u001b[22m\u001b[39m project at `~/Desktop/julia_work/CHEME-5760-PS1-OptimalMacProRackDesign-Fall-2023`\n",
      "\u001b[32m\u001b[1mPrecompiling\u001b[22m\u001b[39m project...\n",
      "\u001b[32m  ✓ \u001b[39m\u001b[90mCairo_jll\u001b[39m\n",
      "\u001b[32m  ✓ \u001b[39m\u001b[90mHarfBuzz_jll\u001b[39m\n",
      "\u001b[32m  ✓ \u001b[39m\u001b[90mlibass_jll\u001b[39m\n",
      "\u001b[32m  ✓ \u001b[39m\u001b[90mOptim\u001b[39m\n",
      "\u001b[32m  ✓ \u001b[39m\u001b[90mHTTP\u001b[39m\n",
      "\u001b[32m  ✓ \u001b[39m\u001b[90mFFMPEG_jll\u001b[39m\n",
      "\u001b[32m  ✓ \u001b[39m\u001b[90mFFMPEG\u001b[39m\n",
      "\u001b[32m  ✓ \u001b[39m\u001b[90mGR_jll\u001b[39m\n",
      "\u001b[32m  ✓ \u001b[39m\u001b[90mDistributions\u001b[39m\n",
      "\u001b[32m  ✓ \u001b[39m\u001b[90mGR\u001b[39m\n",
      "\u001b[32m  ✓ \u001b[39m\u001b[90mPlots\u001b[39m\n",
      "\u001b[32m  ✓ \u001b[39m\u001b[90mPlots → UnitfulExt\u001b[39m\n",
      "\u001b[32m  ✓ \u001b[39m\u001b[90mMathOptInterface\u001b[39m\n",
      "\u001b[32m  ✓ \u001b[39m\u001b[90mMadNLP\u001b[39m\n",
      "\u001b[32m  ✓ \u001b[39m\u001b[90mGLPK\u001b[39m\n",
      "\u001b[32m  ✓ \u001b[39m\u001b[90mJuMP\u001b[39m\n",
      "\u001b[32m  ✓ \u001b[39mVLDecisionsPackage\n",
      "  17 dependencies successfully precompiled in 145 seconds. 196 already precompiled.\n",
      "\u001b[32m\u001b[1m    Updating\u001b[22m\u001b[39m registry at `~/.julia/registries/General.toml`\n",
      "\u001b[32m\u001b[1m    Updating\u001b[22m\u001b[39m git-repo `https://github.com/varnerlab/VLDecisionsPackage.jl.git`\n",
      "\u001b[32m\u001b[1m   Installed\u001b[22m\u001b[39m Scratch ─ v1.2.1\n",
      "\u001b[32m\u001b[1m    Updating\u001b[22m\u001b[39m `~/Desktop/julia_work/CHEME-5760-PS1-OptimalMacProRackDesign-Fall-2023/Project.toml`\n",
      "  \u001b[90m[10f378ab] \u001b[39m\u001b[93m~ VLDecisionsPackage v0.1.0 `https://github.com/varnerlab/VLDecisionsPackage.jl.git#main` ⇒ v0.1.0 `https://github.com/varnerlab/VLDecisionsPackage.jl.git#main`\u001b[39m\n",
      "\u001b[32m\u001b[1m    Updating\u001b[22m\u001b[39m `~/Desktop/julia_work/CHEME-5760-PS1-OptimalMacProRackDesign-Fall-2023/Manifest.toml`\n",
      "  \u001b[90m[14f7f29c] \u001b[39m\u001b[93m↑ AMD v0.5.2 ⇒ v0.5.3\u001b[39m\n",
      "  \u001b[90m[79e6a3ab] \u001b[39m\u001b[93m↑ Adapt v3.6.2 ⇒ v3.7.1\u001b[39m\n",
      "  \u001b[90m[4fba245c] \u001b[39m\u001b[93m↑ ArrayInterface v7.4.11 ⇒ v7.5.1\u001b[39m\n",
      "  \u001b[90m[523fee87] \u001b[39m\u001b[93m↑ CodecBzip2 v0.8.0 ⇒ v0.8.1\u001b[39m\n",
      "  \u001b[90m[944b1d66] \u001b[39m\u001b[93m↑ CodecZlib v0.7.2 ⇒ v0.7.3\u001b[39m\n",
      "  \u001b[90m[34da2185] \u001b[39m\u001b[93m↑ Compat v4.9.0 ⇒ v4.10.0\u001b[39m\n",
      "  \u001b[90m[f0e56b4a] \u001b[39m\u001b[93m↑ ConcurrentUtilities v2.2.1 ⇒ v2.3.0\u001b[39m\n",
      "  \u001b[90m[31c24e10] \u001b[39m\u001b[93m↑ Distributions v0.25.100 ⇒ v0.25.102\u001b[39m\n",
      "  \u001b[90m[1a297f60] \u001b[39m\u001b[93m↑ FillArrays v1.6.1 ⇒ v1.7.0\u001b[39m\n",
      "  \u001b[90m[60bf3e95] \u001b[39m\u001b[93m↑ GLPK v1.1.2 ⇒ v1.1.3\u001b[39m\n",
      "  \u001b[90m[bb4c363b] \u001b[39m\u001b[92m+ GridInterpolations v1.1.2\u001b[39m\n",
      "  \u001b[90m[1019f520] \u001b[39m\u001b[93m↑ JLFzf v0.1.5 ⇒ v0.1.6\u001b[39m\n",
      "  \u001b[90m[4076af6c] \u001b[39m\u001b[93m↑ JuMP v1.15.0 ⇒ v1.16.0\u001b[39m\n",
      "  \u001b[90m[40e66cde] \u001b[39m\u001b[93m↑ LDLFactorizations v0.10.0 ⇒ v0.10.1\u001b[39m\n",
      "  \u001b[90m[b964fa9f] \u001b[39m\u001b[93m↑ LaTeXStrings v1.3.0 ⇒ v1.3.1\u001b[39m\n",
      "  \u001b[90m[e6f89c97] \u001b[39m\u001b[93m↑ LoggingExtras v1.0.2 ⇒ v1.0.3\u001b[39m\n",
      "  \u001b[90m[b8f27783] \u001b[39m\u001b[93m↑ MathOptInterface v1.20.0 ⇒ v1.21.0\u001b[39m\n",
      "  \u001b[90m[429524aa] \u001b[39m\u001b[93m↑ Optim v1.7.7 ⇒ v1.7.8\u001b[39m\n",
      "  \u001b[90m[90014a1f] \u001b[39m\u001b[93m↑ PDMats v0.11.18 ⇒ v0.11.28\u001b[39m\n",
      "  \u001b[90m[08abe8d2] \u001b[39m\u001b[93m↑ PrettyTables v2.2.7 ⇒ v2.2.8\u001b[39m\n",
      "  \u001b[90m[1fd47b50] \u001b[39m\u001b[93m↑ QuadGK v2.9.0 ⇒ v2.9.1\u001b[39m\n",
      "  \u001b[90m[05181044] \u001b[39m\u001b[93m↑ RelocatableFolders v1.0.0 ⇒ v1.0.1\u001b[39m\n",
      "  \u001b[90m[6c6a2e73] \u001b[39m\u001b[93m↑ Scratch v1.2.0 ⇒ v1.2.1\u001b[39m\n",
      "  \u001b[90m[a2af1166] \u001b[39m\u001b[93m↑ SortingAlgorithms v1.1.1 ⇒ v1.2.0\u001b[39m\n",
      "  \u001b[90m[90137ffa] \u001b[39m\u001b[92m+ StaticArrays v1.6.5\u001b[39m\n",
      "  \u001b[90m[2913bbd2] \u001b[39m\u001b[93m↑ StatsBase v0.34.0 ⇒ v0.34.2\u001b[39m\n",
      "  \u001b[90m[bd369af6] \u001b[39m\u001b[93m↑ Tables v1.11.0 ⇒ v1.11.1\u001b[39m\n",
      "  \u001b[90m[3bb67fe8] \u001b[39m\u001b[93m↑ TranscodingStreams v0.9.13 ⇒ v0.10.1\u001b[39m\n",
      "  \u001b[90m[5c2747f8] \u001b[39m\u001b[93m↑ URIs v1.5.0 ⇒ v1.5.1\u001b[39m\n",
      "  \u001b[90m[10f378ab] \u001b[39m\u001b[93m~ VLDecisionsPackage v0.1.0 `https://github.com/varnerlab/VLDecisionsPackage.jl.git#main` ⇒ v0.1.0 `https://github.com/varnerlab/VLDecisionsPackage.jl.git#main`\u001b[39m\n",
      "  \u001b[90m[02c8fc9c] \u001b[39m\u001b[93m↑ XML2_jll v2.10.4+0 ⇒ v2.11.5+0\u001b[39m\n",
      "  \u001b[90m[214eeab7] \u001b[39m\u001b[93m↑ fzf_jll v0.29.0+0 ⇒ v0.35.1+0\u001b[39m\n",
      "\u001b[32m\u001b[1mPrecompiling\u001b[22m\u001b[39m project...\n",
      "\u001b[32m  ✓ \u001b[39m\u001b[90mScratch\u001b[39m\n",
      "\u001b[32m  ✓ \u001b[39m\u001b[90mRelocatableFolders\u001b[39m\n",
      "\u001b[32m  ✓ \u001b[39m\u001b[90mLineSearches\u001b[39m\n",
      "\u001b[32m  ✓ \u001b[39m\u001b[90mOptim\u001b[39m\n",
      "\u001b[32m  ✓ \u001b[39m\u001b[90mPlots\u001b[39m\n",
      "\u001b[32m  ✓ \u001b[39m\u001b[90mPlots → UnitfulExt\u001b[39m\n",
      "\u001b[32m  ✓ \u001b[39mVLDecisionsPackage\n",
      "  7 dependencies successfully precompiled in 44 seconds. 214 already precompiled.\n"
     ]
    }
   ],
   "source": [
    "include(\"Include.jl\");"
   ]
  },
  {
   "cell_type": "markdown",
   "id": "c0af1917-0517-464a-b912-d78bb44f2431",
   "metadata": {},
   "source": [
    "### Some additional setup stuff\n",
    "We’ll use `DataFrames` in the code below to display our choice data. \n",
    "* The `DataFrame` type is exported by the [DataFrames.jl](https://dataframes.juliadata.org/stable/) package, which provides a set of tools for working with tabular data in [Julia](https://julialang.org). Its design and functionality are similar to those of [Pandas (in Python)](https://pandas.pydata.org) and [data.frame, data.table, and dplyr (in R)](https://dplyr.tidyverse.org), making it an excellent general-purpose data science tool.\n",
    "* We add `DataFrames` to the notebook by issuing the `using Pkg` command followed by the `Pkg.add(\"DataFrames\")` command. [Pkg.jl](https://pkgdocs.julialang.org/v1/getting-started/) is the `built-in` Julia package manager used to `add/delete` external package dependencies. These two commands load `Pkg`, and use it to add `DataFrames` to the notebook. \n",
    "* Finally, the `using DataFrames` command loads the `DataFrames` package so we can use it."
   ]
  },
  {
   "cell_type": "code",
   "execution_count": 2,
   "id": "93a42ab7-37f5-4a33-9c87-60118b77c37b",
   "metadata": {
    "tags": []
   },
   "outputs": [
    {
     "name": "stderr",
     "output_type": "stream",
     "text": [
      "\u001b[32m\u001b[1m   Resolving\u001b[22m\u001b[39m package versions...\n",
      "\u001b[32m\u001b[1m  No Changes\u001b[22m\u001b[39m to `~/Desktop/julia_work/CHEME-5760-PS1-OptimalMacProRackDesign-Fall-2023/Project.toml`\n",
      "\u001b[32m\u001b[1m  No Changes\u001b[22m\u001b[39m to `~/Desktop/julia_work/CHEME-5760-PS1-OptimalMacProRackDesign-Fall-2023/Manifest.toml`\n"
     ]
    }
   ],
   "source": [
    "# extra stuff that I'm adding -\n",
    "using Pkg;\n",
    "Pkg.add(\"DataFrames\")\n",
    "using DataFrames"
   ]
  },
  {
   "cell_type": "markdown",
   "id": "c49e194e-2d0f-4141-9a2c-a1f0db603a89",
   "metadata": {},
   "source": [
    "#### Specify constants and other static stuff"
   ]
  },
  {
   "cell_type": "code",
   "execution_count": 3,
   "id": "6e9bfd9d-5794-4fa7-8022-f627623704ad",
   "metadata": {
    "tags": []
   },
   "outputs": [],
   "source": [
    "number_of_choices = 14;\n",
    "bounds_array = Array{Float64,2}(undef, number_of_choices,2)\n",
    "for i ∈ 1:number_of_choices\n",
    "    bounds_array[i,1] = 0.0\n",
    "    bounds_array[i,2] = 1.0;\n",
    "end"
   ]
  },
  {
   "cell_type": "markdown",
   "id": "49da2a94-1e41-4875-8208-407d2b48781d",
   "metadata": {},
   "source": [
    "We add the `label_dictionary` dictionary which holds the labels for the options in our choice set:"
   ]
  },
  {
   "cell_type": "code",
   "execution_count": 4,
   "id": "3e20ab7c-c187-4e83-b263-81717b423913",
   "metadata": {
    "tags": []
   },
   "outputs": [],
   "source": [
    "label_dictionary = Dict{Int64,String}()\n",
    "label_dictionary[1] = \"CPU 1\"\n",
    "label_dictionary[2] = \"CPU 2\"\n",
    "label_dictionary[3] = \"Memory 1\"\n",
    "label_dictionary[4] = \"Memory 2\"\n",
    "label_dictionary[5] = \"Memory 3\"\n",
    "label_dictionary[6] = \"Storage 1\"\n",
    "label_dictionary[7] = \"Storage 2\"\n",
    "label_dictionary[8] = \"Storage 3\"\n",
    "label_dictionary[9] = \"Storage 4\"\n",
    "label_dictionary[10] = \"Accessory 1\"\n",
    "label_dictionary[11] = \"Accessory 2\"\n",
    "label_dictionary[12] = \"Accessory 3\"\n",
    "label_dictionary[13] = \"Software 1\"\n",
    "label_dictionary[14] = \"Software 2\";"
   ]
  },
  {
   "cell_type": "markdown",
   "id": "59a60542-a0f6-454c-b829-957ca16ed2bc",
   "metadata": {},
   "source": [
    "## Task 1: Specify the configuration array\n",
    "The `configuration_array` is a `14` $\\times$ `2` array holding perception and cost information about the problem. Each row of the `configuration_array` contains data for a particular MacPro configuration option. The first column contains the coefficients of the `Linear` utility function, i.e., the elements of the $\\alpha$-vector, while the unit price of the features, i.e., elements of the $c$-vector, are in the second column.  \n",
    "\n",
    "#### Feature prices\n",
    "The prices of each configuration option have been estimated from the [Apple MacPro server website](https://www.apple.com/shop/buy-mac/mac-pro/rack#).\n",
    "\n",
    "#### Linear utility weighting scheme\n",
    "In `PS1`, we'll use a category-based weighting scheme. In each of the five categories, allocate `1` unit of weight:\n",
    "\n",
    "* In each category, the coefficients in the `Linear` utility function for options in that category must sum to one.\n",
    "\n",
    "For example, if you have equal feelings about three options in a category, then `0.33, 0.33, 0.33` would be a typical scheme. On the other hand, if you are excited about feature `1` over the other two in the category, then `0.8,0.1,0.1` could be an appropriate weight scheme."
   ]
  },
  {
   "cell_type": "code",
   "execution_count": 5,
   "id": "f1f4c2f7-1ba7-4be9-9bbf-87ace097a4ba",
   "metadata": {},
   "outputs": [],
   "source": [
    "configuration_array = [\n",
    "\n",
    "    # 1 CPU options\n",
    "    0.5 2640.0    ; # 1 CPU 1\n",
    "    0.5 3649.0    ; # 2 CPU 2\n",
    "\n",
    "    # 2 Memory options\n",
    "    0.333 3840.0  ; # 3 Memory 1\n",
    "    0.333 4640.0  ; # 4 Memory 2\n",
    "    0.333 3600.0  ; # 5 Memory 3\n",
    "\n",
    "    # 3 Storage options -\n",
    "    0.25 1440.0   ; # 6 Storage 1\n",
    "    0.25 1840.0   ; # 7 Storage 2\n",
    "    0.25 2440.0   ; # 8 Storage 3\n",
    "    0.25 3640.0   ; # 9 Storage 4\n",
    "\n",
    "    # 4 Accessory options\n",
    "    0.333 79.0    ; # 10 Accessory 1\n",
    "    0.333 129.0   ; # 11 Accessory 2\n",
    "    0.333 149.0   ; # 12 Accessory 3\n",
    "    \n",
    "    # Software options\n",
    "    0.5 299.0     ; # 13 Software 1\n",
    "    0.5 149.0     ; # 14 Software 2\n",
    "];"
   ]
  },
  {
   "cell_type": "markdown",
   "id": "d95754dc-5bd3-4adb-a902-46aacd490142",
   "metadata": {
    "tags": []
   },
   "source": [
    "### Task 2: Specify the feature constraint matrix `C`\n",
    "In each category, only a finite number of options can be selected simultaneously, typically only a single option, with the exception being the `Software` category, which is unconstrained (can have from zero up to two items selected). Because the decision variables are binary, we can implement this requirement with an additional set of constraints of the form:\n",
    "\n",
    "$$\n",
    "\\begin{equation}\n",
    "\\mathbf{C}\\mathbf{x} = \\mathbf{1}\n",
    "\\end{equation}\n",
    "$$\n",
    "\n",
    "where $\\mathbf{C}$ denotes the constraint matrix, $\\mathbf{x}$ denotes the choice vector and $\\mathbf{1}$ denotes a vector of `1`'s. \n",
    "Specify the $\\mathbf{C}$ matrix for this problem:"
   ]
  },
  {
   "cell_type": "code",
   "execution_count": 6,
   "id": "d1d0a2b8-16e3-4a41-934a-f3dec5be01f0",
   "metadata": {
    "tags": []
   },
   "outputs": [],
   "source": [
    "C = zeros(4,14); # understanding qestion: why is this a 4 x 14 array?"
   ]
  },
  {
   "cell_type": "code",
   "execution_count": 7,
   "id": "dec81f87-331c-499f-a11a-90ac2a60d515",
   "metadata": {
    "tags": []
   },
   "outputs": [],
   "source": [
    "C[1,1:2] .= 1;    # constraints on CPU options\n",
    "C[2,3:5] .= 1;    # constraints on memory options\n",
    "C[3,6:9] .= 1;    # constraints on storage options\n",
    "C[4,10:12] .= 1;  # constraints on accessory options"
   ]
  },
  {
   "cell_type": "markdown",
   "id": "7ca8f780-d5a9-4bf6-aeda-2e5a6c09aa53",
   "metadata": {},
   "source": [
    "__Note__: Julia's Array syntax is similar to Matlab/Octave, except with square brackets. See [the Array documentation](https://docs.julialang.org/en/v1/base/arrays/) or various other [Julia tutorials on the web](https://www.tutorialspoint.com/julia/julia_arrays.htm) about working with the Array data structure."
   ]
  },
  {
   "cell_type": "markdown",
   "id": "bf9738eb-627e-4c69-ad4c-9aabc7fda7fe",
   "metadata": {},
   "source": [
    "### Task 3: Specify the problem object, and solve for the optimal configuration\n",
    "Finally, build a `MySimpleBinaryVariableLinearChoiceProblem` model using the `build(...)` method, set this instance to the `problem` variable, and then pass the `problem` object to the `solve(...)` method. The `solve(...)` method will solve the `ILP` problem using the [GLPK.jl](https://github.com/jump-dev/GLPK.jl) interface to the [GLPK linear programming solver](https://www.gnu.org/software/glpk/)."
   ]
  },
  {
   "cell_type": "code",
   "execution_count": 8,
   "id": "38a1b19e-8610-4e41-8eb3-4bf89f85d694",
   "metadata": {
    "tags": []
   },
   "outputs": [],
   "source": [
    "α = configuration_array[:,1];\n",
    "c = configuration_array[:,2];\n",
    "I = 10000; # default budget is 10K USD"
   ]
  },
  {
   "cell_type": "code",
   "execution_count": 9,
   "id": "f58cffbb-b873-4b7e-9ee9-1b11ae8282c0",
   "metadata": {
    "tags": []
   },
   "outputs": [
    {
     "data": {
      "text/plain": [
       "Dict{String, Any} with 3 entries:\n",
       "  \"argmax\"          => [1.0, 0.0, 1.0, 0.0, 0.0, 1.0, 0.0, 0.0, 0.0, 1.0, 0.0, …\n",
       "  \"budget\"          => 8447.0\n",
       "  \"objective_value\" => 2.416"
      ]
     },
     "execution_count": 9,
     "metadata": {},
     "output_type": "execute_result"
    }
   ],
   "source": [
    "problem = build(MySimpleBinaryVariableLinearChoiceProblem, (\n",
    "    \n",
    "    α = α,\n",
    "    c = c,\n",
    "    I = I,\n",
    "    initial = zeros(14),\n",
    "    bounds = bounds_array,\n",
    "\n",
    "    # extra constraints -\n",
    "    C = C\n",
    "));\n",
    "solution = solve(problem)"
   ]
  },
  {
   "cell_type": "markdown",
   "id": "23160512-ce24-43c8-adc3-7a5d2c247efb",
   "metadata": {},
   "source": [
    "#### Check: Are the choice constraints enforced?\n",
    "We can only select a fixed number of items from each category. Does your solution reflect this restriction? If the choice constraints are enforced, then the product of the solution and the constraint matrix should be the `4`$\\times$`1` vector of `1's`:"
   ]
  },
  {
   "cell_type": "code",
   "execution_count": 10,
   "id": "257f9a6a-3d2b-4395-ac72-482c72d4cf60",
   "metadata": {
    "tags": []
   },
   "outputs": [
    {
     "data": {
      "text/plain": [
       "14-element Vector{Float64}:\n",
       " 1.0\n",
       " 0.0\n",
       " 1.0\n",
       " 0.0\n",
       " 0.0\n",
       " 1.0\n",
       " 0.0\n",
       " 0.0\n",
       " 0.0\n",
       " 1.0\n",
       " 0.0\n",
       " 0.0\n",
       " 1.0\n",
       " 1.0"
      ]
     },
     "execution_count": 10,
     "metadata": {},
     "output_type": "execute_result"
    }
   ],
   "source": [
    "x = solution[\"argmax\"]"
   ]
  },
  {
   "cell_type": "code",
   "execution_count": 11,
   "id": "55090ae9-7f08-4487-9b19-25c04a1909e6",
   "metadata": {
    "tags": []
   },
   "outputs": [
    {
     "data": {
      "text/plain": [
       "4-element Vector{Float64}:\n",
       " 1.0\n",
       " 1.0\n",
       " 1.0\n",
       " 1.0"
      ]
     },
     "execution_count": 11,
     "metadata": {},
     "output_type": "execute_result"
    }
   ],
   "source": [
    "C*x"
   ]
  },
  {
   "cell_type": "markdown",
   "id": "70eb10c8-3c05-4de9-954a-775fc981fe2c",
   "metadata": {},
   "source": [
    "### Task 4: How does changing the $\\alpha$-vector (or the budget $I$) influence the configuration choice?\n",
    "Let's explore two cases which mimics how I purchase Apple products, namely:\n",
    "* `Case 1`: I maximize all the options (and hit my budget constraint)\n",
    "* `Case 2`: I maximize all the options (hit my budget constraint), but spend more than I wanted to (increase the budget constraint)"
   ]
  },
  {
   "cell_type": "markdown",
   "id": "cb8c43c0-6a3c-47d9-a04a-40f909e80ba3",
   "metadata": {
    "tags": []
   },
   "source": [
    "#### Case 1: Value the highest performance selections the most (change the $\\alpha$ values) with the original budget\n",
    "First, let's create a new configuration array named `configuration_array_case_1` in which we value the most expensive element of each category:"
   ]
  },
  {
   "cell_type": "code",
   "execution_count": 12,
   "id": "c221f3e6-d218-4e16-878c-58791beef1ec",
   "metadata": {
    "tags": []
   },
   "outputs": [],
   "source": [
    "configuration_array_case_1 = [\n",
    "\n",
    "    # 1 CPU options\n",
    "    0.05 2640.0    ; # 1 CPU 1\n",
    "    0.95 3649.0    ; # 2 CPU 2\n",
    "\n",
    "    # 2 Memory options\n",
    "    0.1 3840.0  ; # 3 Memory 1\n",
    "    0.1 4640.0  ; # 4 Memory 2\n",
    "    0.8 3600.0  ; # 5 Memory 3\n",
    "\n",
    "    # 3 Storage options -\n",
    "    0.1 1440.0   ; # 6 Storage 1\n",
    "    0.1 1840.0   ; # 7 Storage 2\n",
    "    0.1 2440.0   ; # 8 Storage 3\n",
    "    0.7 3640.0   ; # 9 Storage 4\n",
    "\n",
    "    # 4 Accessory options\n",
    "    0.1 79.0    ; # 10 Accessory 1\n",
    "    0.1 129.0   ; # 11 Accessory 2\n",
    "    0.8 149.0   ; # 12 Accessory 3\n",
    "    \n",
    "    # Software options\n",
    "    0.1 299.0     ; # 13 Software 1\n",
    "    0.9 149.0     ; # 14 Software 2\n",
    "];"
   ]
  },
  {
   "cell_type": "markdown",
   "id": "29fcca5a-8c9f-4ee5-83ab-4ed387813560",
   "metadata": {},
   "source": [
    "Next, create a new problem object using the updated configuration array using the `build(...)` method and assign it to the `problem_case_1` variable. Then, solve the problem using the `solve(...)` method. Assign the solution to the `solution_case_1` variable:"
   ]
  },
  {
   "cell_type": "code",
   "execution_count": 13,
   "id": "d4bc6c27-5831-4dfd-80b3-d40f8209f382",
   "metadata": {
    "tags": []
   },
   "outputs": [
    {
     "data": {
      "text/plain": [
       "Dict{String, Any} with 3 entries:\n",
       "  \"argmax\"          => [0.0, 1.0, 0.0, 0.0, 1.0, 0.0, 1.0, 0.0, 0.0, 0.0, 0.0, …\n",
       "  \"budget\"          => 9686.0\n",
       "  \"objective_value\" => 3.65"
      ]
     },
     "execution_count": 13,
     "metadata": {},
     "output_type": "execute_result"
    }
   ],
   "source": [
    "α₁ = configuration_array_case_1[:,1];\n",
    "c₁ = configuration_array_case_1[:,2];\n",
    "problem_case_1 = build(MySimpleBinaryVariableLinearChoiceProblem, (\n",
    "    \n",
    "    α = α₁,\n",
    "    c = c₁,\n",
    "    I = I,\n",
    "    initial = zeros(14),\n",
    "    bounds = bounds_array,\n",
    "\n",
    "    # extra constraints -\n",
    "    C = C\n",
    "));\n",
    "solution_case_1 = solve(problem_case_1)"
   ]
  },
  {
   "cell_type": "code",
   "execution_count": 14,
   "id": "b9199f67-1170-40f2-bfa4-6eab9b1df091",
   "metadata": {
    "tags": []
   },
   "outputs": [
    {
     "data": {
      "text/plain": [
       "14-element Vector{Float64}:\n",
       " 0.0\n",
       " 1.0\n",
       " 0.0\n",
       " 0.0\n",
       " 1.0\n",
       " 0.0\n",
       " 1.0\n",
       " 0.0\n",
       " 0.0\n",
       " 0.0\n",
       " 0.0\n",
       " 1.0\n",
       " 1.0\n",
       " 1.0"
      ]
     },
     "execution_count": 14,
     "metadata": {},
     "output_type": "execute_result"
    }
   ],
   "source": [
    "x₁ = solution_case_1[\"argmax\"]"
   ]
  },
  {
   "cell_type": "code",
   "execution_count": 15,
   "id": "c84014ec-de3b-46e3-9051-692f90005021",
   "metadata": {
    "tags": []
   },
   "outputs": [
    {
     "data": {
      "text/plain": [
       "4-element Vector{Float64}:\n",
       " 1.0\n",
       " 1.0\n",
       " 1.0\n",
       " 1.0"
      ]
     },
     "execution_count": 15,
     "metadata": {},
     "output_type": "execute_result"
    }
   ],
   "source": [
    "C*x₁"
   ]
  },
  {
   "cell_type": "markdown",
   "id": "a254f934-69c3-4417-8d4d-79706d566e3c",
   "metadata": {},
   "source": [
    "#### Visualize: Build a table with the selected options for `case 1`\n",
    "Let's build a table that holds the selected options for `case 1` and their prices using a `DataFrame` instance:"
   ]
  },
  {
   "cell_type": "code",
   "execution_count": 16,
   "id": "5f6fd1e3-f573-4b6e-99a0-0275e11ea069",
   "metadata": {
    "tags": []
   },
   "outputs": [
    {
     "data": {
      "text/html": [
       "<div><div style = \"float: left;\"><span>6×2 DataFrame</span></div><div style = \"clear: both;\"></div></div><div class = \"data-frame\" style = \"overflow-x: scroll;\"><table class = \"data-frame\" style = \"margin-bottom: 6px;\"><thead><tr class = \"header\"><th class = \"rowNumber\" style = \"font-weight: bold; text-align: right;\">Row</th><th style = \"text-align: left;\">option</th><th style = \"text-align: left;\">price</th></tr><tr class = \"subheader headerLastRow\"><th class = \"rowNumber\" style = \"font-weight: bold; text-align: right;\"></th><th title = \"String\" style = \"text-align: left;\">String</th><th title = \"Float64\" style = \"text-align: left;\">Float64</th></tr></thead><tbody><tr><td class = \"rowNumber\" style = \"font-weight: bold; text-align: right;\">1</td><td style = \"text-align: left;\">CPU 2</td><td style = \"text-align: right;\">3649.0</td></tr><tr><td class = \"rowNumber\" style = \"font-weight: bold; text-align: right;\">2</td><td style = \"text-align: left;\">Memory 3</td><td style = \"text-align: right;\">3600.0</td></tr><tr><td class = \"rowNumber\" style = \"font-weight: bold; text-align: right;\">3</td><td style = \"text-align: left;\">Storage 2</td><td style = \"text-align: right;\">1840.0</td></tr><tr><td class = \"rowNumber\" style = \"font-weight: bold; text-align: right;\">4</td><td style = \"text-align: left;\">Accessory 3</td><td style = \"text-align: right;\">149.0</td></tr><tr><td class = \"rowNumber\" style = \"font-weight: bold; text-align: right;\">5</td><td style = \"text-align: left;\">Software 1</td><td style = \"text-align: right;\">299.0</td></tr><tr><td class = \"rowNumber\" style = \"font-weight: bold; text-align: right;\">6</td><td style = \"text-align: left;\">Software 2</td><td style = \"text-align: right;\">149.0</td></tr></tbody></table></div>"
      ],
      "text/latex": [
       "\\begin{tabular}{r|cc}\n",
       "\t& option & price\\\\\n",
       "\t\\hline\n",
       "\t& String & Float64\\\\\n",
       "\t\\hline\n",
       "\t1 & CPU 2 & 3649.0 \\\\\n",
       "\t2 & Memory 3 & 3600.0 \\\\\n",
       "\t3 & Storage 2 & 1840.0 \\\\\n",
       "\t4 & Accessory 3 & 149.0 \\\\\n",
       "\t5 & Software 1 & 299.0 \\\\\n",
       "\t6 & Software 2 & 149.0 \\\\\n",
       "\\end{tabular}\n"
      ],
      "text/plain": [
       "\u001b[1m6×2 DataFrame\u001b[0m\n",
       "\u001b[1m Row \u001b[0m│\u001b[1m option      \u001b[0m\u001b[1m price   \u001b[0m\n",
       "     │\u001b[90m String      \u001b[0m\u001b[90m Float64 \u001b[0m\n",
       "─────┼──────────────────────\n",
       "   1 │ CPU 2         3649.0\n",
       "   2 │ Memory 3      3600.0\n",
       "   3 │ Storage 2     1840.0\n",
       "   4 │ Accessory 3    149.0\n",
       "   5 │ Software 1     299.0\n",
       "   6 │ Software 2     149.0"
      ]
     },
     "execution_count": 16,
     "metadata": {},
     "output_type": "execute_result"
    }
   ],
   "source": [
    "table_case_1 = DataFrame()\n",
    "for i ∈ eachindex(x₁)\n",
    "    \n",
    "    choice_value = x₁[i]\n",
    "    if (choice_value == 1)\n",
    "        \n",
    "        # row data -\n",
    "        row_data = (\n",
    "            option = label_dictionary[i],\n",
    "            price = c₁[i]\n",
    "        )\n",
    "        push!(table_case_1, row_data)\n",
    "    end\n",
    "end\n",
    "table_case_1"
   ]
  },
  {
   "cell_type": "code",
   "execution_count": 17,
   "id": "af604335-525d-4c0b-93f5-7129a959a752",
   "metadata": {
    "tags": []
   },
   "outputs": [
    {
     "data": {
      "text/plain": [
       "9686.0"
      ]
     },
     "execution_count": 17,
     "metadata": {},
     "output_type": "execute_result"
    }
   ],
   "source": [
    "total_cost = sum(table_case_1[:,:price])"
   ]
  },
  {
   "cell_type": "markdown",
   "id": "6e7c96ab-cfc5-42d2-b3a7-5016bb58a7b9",
   "metadata": {},
   "source": [
    "#### Case 2: Value the highest performance selections the most, and increase the budget to `I = 15000 USD`\n",
    "Create a new problem object using the updated budget value `I = 15000` and configuration array from `case 1` using the `build(...)` method and assign it to the `problem_case_2` variable. Then, solve the problem using the `solve(...)` method. Assign the solution to the `solution_case_2` variable:"
   ]
  },
  {
   "cell_type": "code",
   "execution_count": 18,
   "id": "e11e94a9-2698-4253-83c2-f8717098806c",
   "metadata": {
    "tags": []
   },
   "outputs": [
    {
     "data": {
      "text/plain": [
       "Dict{String, Any} with 3 entries:\n",
       "  \"argmax\"          => [0.0, 1.0, 0.0, 0.0, 1.0, 0.0, 0.0, 0.0, 1.0, 0.0, 0.0, …\n",
       "  \"budget\"          => 11486.0\n",
       "  \"objective_value\" => 4.25"
      ]
     },
     "execution_count": 18,
     "metadata": {},
     "output_type": "execute_result"
    }
   ],
   "source": [
    "α₂ = configuration_array_case_1[:,1];\n",
    "c₂ = configuration_array_case_1[:,2];\n",
    "problem_case_2 = build(MySimpleBinaryVariableLinearChoiceProblem, (\n",
    "    \n",
    "    α = α₂,\n",
    "    c = c₂,\n",
    "    I = 25000,\n",
    "    initial = zeros(14),\n",
    "    bounds = bounds_array,\n",
    "\n",
    "    # extra constraints -\n",
    "    C = C\n",
    "));\n",
    "solution_case_2 = solve(problem_case_2)"
   ]
  },
  {
   "cell_type": "code",
   "execution_count": 19,
   "id": "8dfea21c-fa4d-4ae3-8c35-37f0d610e9a1",
   "metadata": {
    "tags": []
   },
   "outputs": [
    {
     "data": {
      "text/plain": [
       "14-element Vector{Float64}:\n",
       " 0.0\n",
       " 1.0\n",
       " 0.0\n",
       " 0.0\n",
       " 1.0\n",
       " 0.0\n",
       " 0.0\n",
       " 0.0\n",
       " 1.0\n",
       " 0.0\n",
       " 0.0\n",
       " 1.0\n",
       " 1.0\n",
       " 1.0"
      ]
     },
     "execution_count": 19,
     "metadata": {},
     "output_type": "execute_result"
    }
   ],
   "source": [
    "x₂ = solution_case_2[\"argmax\"]"
   ]
  },
  {
   "cell_type": "markdown",
   "id": "71f18965-8f43-4ef2-993d-6baec5ab6807",
   "metadata": {},
   "source": [
    "#### Visualize: Build a table with the selected options for `case 2`\n",
    "Let's build a table that holds the selected options for `case 2` and their prices using a `DataFrame` instance:"
   ]
  },
  {
   "cell_type": "code",
   "execution_count": 20,
   "id": "c4af582c-ee09-4fdf-ae1b-15500ebbac1c",
   "metadata": {
    "tags": []
   },
   "outputs": [
    {
     "data": {
      "text/html": [
       "<div><div style = \"float: left;\"><span>6×2 DataFrame</span></div><div style = \"clear: both;\"></div></div><div class = \"data-frame\" style = \"overflow-x: scroll;\"><table class = \"data-frame\" style = \"margin-bottom: 6px;\"><thead><tr class = \"header\"><th class = \"rowNumber\" style = \"font-weight: bold; text-align: right;\">Row</th><th style = \"text-align: left;\">option</th><th style = \"text-align: left;\">price</th></tr><tr class = \"subheader headerLastRow\"><th class = \"rowNumber\" style = \"font-weight: bold; text-align: right;\"></th><th title = \"String\" style = \"text-align: left;\">String</th><th title = \"Float64\" style = \"text-align: left;\">Float64</th></tr></thead><tbody><tr><td class = \"rowNumber\" style = \"font-weight: bold; text-align: right;\">1</td><td style = \"text-align: left;\">CPU 2</td><td style = \"text-align: right;\">3649.0</td></tr><tr><td class = \"rowNumber\" style = \"font-weight: bold; text-align: right;\">2</td><td style = \"text-align: left;\">Memory 3</td><td style = \"text-align: right;\">3600.0</td></tr><tr><td class = \"rowNumber\" style = \"font-weight: bold; text-align: right;\">3</td><td style = \"text-align: left;\">Storage 4</td><td style = \"text-align: right;\">3640.0</td></tr><tr><td class = \"rowNumber\" style = \"font-weight: bold; text-align: right;\">4</td><td style = \"text-align: left;\">Accessory 3</td><td style = \"text-align: right;\">149.0</td></tr><tr><td class = \"rowNumber\" style = \"font-weight: bold; text-align: right;\">5</td><td style = \"text-align: left;\">Software 1</td><td style = \"text-align: right;\">299.0</td></tr><tr><td class = \"rowNumber\" style = \"font-weight: bold; text-align: right;\">6</td><td style = \"text-align: left;\">Software 2</td><td style = \"text-align: right;\">149.0</td></tr></tbody></table></div>"
      ],
      "text/latex": [
       "\\begin{tabular}{r|cc}\n",
       "\t& option & price\\\\\n",
       "\t\\hline\n",
       "\t& String & Float64\\\\\n",
       "\t\\hline\n",
       "\t1 & CPU 2 & 3649.0 \\\\\n",
       "\t2 & Memory 3 & 3600.0 \\\\\n",
       "\t3 & Storage 4 & 3640.0 \\\\\n",
       "\t4 & Accessory 3 & 149.0 \\\\\n",
       "\t5 & Software 1 & 299.0 \\\\\n",
       "\t6 & Software 2 & 149.0 \\\\\n",
       "\\end{tabular}\n"
      ],
      "text/plain": [
       "\u001b[1m6×2 DataFrame\u001b[0m\n",
       "\u001b[1m Row \u001b[0m│\u001b[1m option      \u001b[0m\u001b[1m price   \u001b[0m\n",
       "     │\u001b[90m String      \u001b[0m\u001b[90m Float64 \u001b[0m\n",
       "─────┼──────────────────────\n",
       "   1 │ CPU 2         3649.0\n",
       "   2 │ Memory 3      3600.0\n",
       "   3 │ Storage 4     3640.0\n",
       "   4 │ Accessory 3    149.0\n",
       "   5 │ Software 1     299.0\n",
       "   6 │ Software 2     149.0"
      ]
     },
     "execution_count": 20,
     "metadata": {},
     "output_type": "execute_result"
    }
   ],
   "source": [
    "table_case_2 = DataFrame()\n",
    "for i ∈ eachindex(x₂)\n",
    "    \n",
    "    choice_value = x₂[i]\n",
    "    if (choice_value == 1)\n",
    "        \n",
    "        # row data -\n",
    "        row_data = (\n",
    "            option = label_dictionary[i],\n",
    "            price = c₂[i]\n",
    "        )\n",
    "        push!(table_case_2, row_data)\n",
    "    end\n",
    "end\n",
    "table_case_2"
   ]
  },
  {
   "cell_type": "code",
   "execution_count": 21,
   "id": "a3a81fcd-29f6-4f47-a749-49522fa4407c",
   "metadata": {
    "tags": []
   },
   "outputs": [
    {
     "data": {
      "text/plain": [
       "11486.0"
      ]
     },
     "execution_count": 21,
     "metadata": {},
     "output_type": "execute_result"
    }
   ],
   "source": [
    "total_cost = sum(table_case_2[:,:price])"
   ]
  }
 ],
 "metadata": {
  "kernelspec": {
   "display_name": "Julia 1.9.3",
   "language": "julia",
   "name": "julia-1.9"
  },
  "language_info": {
   "file_extension": ".jl",
   "mimetype": "application/julia",
   "name": "julia",
   "version": "1.9.3"
  }
 },
 "nbformat": 4,
 "nbformat_minor": 5
}
